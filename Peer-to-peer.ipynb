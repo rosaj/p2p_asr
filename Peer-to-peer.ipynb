{
 "cells": [
  {
   "cell_type": "markdown",
   "id": "33d4c51c",
   "metadata": {},
   "source": [
    "# Peer-to-peer simulation environment\n",
    "\n",
    "To train in peer-to-peer environment you need to call the `do_train` function as in example below. It must contain the following arguments:\n",
    "- `agent_pars`: dictionary specifying which class will be used as to define the agent behaviour. You will not need to change this,\n",
    "- `agent_data_pars`: dictionary where key value `agents_data` specifies the module from which the clients data will be loaded. The module must contain function `load_clients_data` that returns data in the format specified in the Readme. Here you can also set `batch_size`. Any additional key-value pair will be forwarded to `load_clients_data` function as parameters.\n",
    "- `model_pars`: dictionary where key value `model_mod` specifies the module from which the model will be created. The module must contain function `create_model` that will create and return an instance of the model. Any additional key-value pair will be forwarder to the `create_model` function as parameters.\n",
    "- `graph_pars`: dictionary where key value `graph_type` specifies the type of graph to be used, `num_neighbors` specifies the number of peers each agent is connected to and `directed` speficies wheather the graph is directed. For types of communication graphs, please refer to [p2p/graph_manager.py](p2p/graph_manager.py).\n",
    "- `sim_pars`: dictionary specifying simulation parameters, such as the number of epochs and seed"
   ]
  },
  {
   "cell_type": "markdown",
   "id": "f3da7fd8",
   "metadata": {},
   "source": [
    "### Using LJ Speech dataset"
   ]
  },
  {
   "cell_type": "code",
   "execution_count": null,
   "id": "cb40c509",
   "metadata": {},
   "outputs": [],
   "source": [
    "from environ import set_visible_devices\n",
    "set_visible_devices('GPU:1')\n",
    "\n",
    "from p2p.train import do_train\n",
    "from p2p.agents import GossipPullAgent\n",
    "from data.ljspeech import clients_data\n",
    "from models.asr import deep_speech2 as model\n",
    "\n",
    "do_train(agent_pars={\"agent_class\": GossipPullAgent, 'use_tf_function': False, 'eval_batch_size': 8, 'init_on_cpu': True},\n",
    "         agent_data_pars={\"agents_data\": clients_data, \"num_clients\": 55, \"batch_size\": 8},\n",
    "         model_pars={\"model_mod\": model, \"rnn_layers\": 1, \"rnn_units\": 512},\n",
    "         graph_pars={'graph_type': 'sparse', 'num_neighbors': 3, 'directed': True},\n",
    "         sim_pars={'epochs': 600, 'seed': 111, 'save_freq': 10})\n"
   ]
  },
  {
   "cell_type": "markdown",
   "id": "5b328bad",
   "metadata": {},
   "source": [
    "### Using UserLibri dataset"
   ]
  },
  {
   "cell_type": "code",
   "execution_count": null,
   "id": "891a0af0",
   "metadata": {},
   "outputs": [],
   "source": [
    "from environ import set_visible_devices\n",
    "set_visible_devices('GPU:1')\n",
    "\n",
    "from p2p.train import do_train\n",
    "from p2p.agents import GossipPullAgent\n",
    "from data.userlibri import clients_data\n",
    "from models.asr import deep_speech2 as model\n",
    "\n",
    "do_train(agent_pars={\"agent_class\": GossipPullAgent, 'use_tf_function': False, 'eval_batch_size': 8, 'init_on_cpu': True},\n",
    "         agent_data_pars={\"agents_data\": clients_data, \"num_clients\": 55, \"batch_size\": 8},\n",
    "         model_pars={\"model_mod\": model, \"rnn_layers\": 1, \"rnn_units\": 512},\n",
    "         graph_pars={'graph_type': 'sparse', 'num_neighbors': 3, 'directed': True},\n",
    "         sim_pars={'epochs': 600, 'seed': 111, 'save_freq': 10})"
   ]
  }
 ],
 "metadata": {
  "kernelspec": {
   "display_name": "Python [conda env:asr_env]",
   "language": "python",
   "name": "conda-env-asr_env-py"
  },
  "language_info": {
   "codemirror_mode": {
    "name": "ipython",
    "version": 3
   },
   "file_extension": ".py",
   "mimetype": "text/x-python",
   "name": "python",
   "nbconvert_exporter": "python",
   "pygments_lexer": "ipython3",
   "version": "3.8.18"
  }
 },
 "nbformat": 4,
 "nbformat_minor": 5
}
